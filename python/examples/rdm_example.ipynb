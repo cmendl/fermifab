{
 "cells": [
  {
   "cell_type": "code",
   "execution_count": 1,
   "metadata": {},
   "outputs": [],
   "source": [
    "import numpy as np\n",
    "#import sys\n",
    "\n",
    "#sys.path.append(r\"../fermifab\") \n",
    "#from fermistate import *\n",
    "#from fermiop import *\n",
    "#from rdm import *\n",
    "\n",
    "from fermifab.fermistate import *\n",
    "from fermifab.fermiop import *\n",
    "from fermifab.rdm import *\n",
    "# autoreload during development; see https://ipython.org/ipython-doc/3/config/extensions/autoreload.html\n",
    "\n",
    "%load_ext autoreload\n",
    "%autoreload 2"
   ]
  },
  {
   "cell_type": "code",
   "execution_count": 2,
   "metadata": {},
   "outputs": [
    {
     "data": {
      "text/plain": [
       "Fermi State (orbs == 6, N == 4)\n",
       "\n",
       "Vector representation w.r.t. ordered Slater basis:\n",
       "\n",
       "array([0.70710678+0.j        , 0.        +0.70710678j,\n",
       "       0.        +0.j        , 0.        +0.j        ,\n",
       "       0.        +0.j        , 0.        +0.j        ,\n",
       "       0.        +0.j        , 0.        +0.j        ,\n",
       "       0.        +0.j        , 0.        +0.j        ,\n",
       "       0.        +0.j        , 0.        +0.j        ,\n",
       "       0.        +0.j        , 0.        +0.j        ,\n",
       "       0.        +0.j        ])"
      ]
     },
     "execution_count": 2,
     "metadata": {},
     "output_type": "execute_result"
    }
   ],
   "source": [
    "# construct fermionic quantum state\n",
    "# number of \"orbitals\" (slots)\n",
    "orbs = 6\n",
    "# number of particles (occupied orbitals)\n",
    "N = 4\n",
    "psi = FermiState(orbs, N)\n",
    "psi.data[0] = 1. /np.sqrt(2)\n",
    "psi.data[1] = 1.j/np.sqrt(2)\n",
    "psi"
   ]
  },
  {
   "cell_type": "code",
   "execution_count": 3,
   "metadata": {},
   "outputs": [
    {
     "data": {
      "text/plain": [
       "Fermi State (orbs == 6, N == 4)\n",
       "\n",
       "Vector representation w.r.t. ordered Slater basis:\n",
       "\n",
       "array([1.41421356+0.j        , 0.        +0.70710678j,\n",
       "       0.70710678+0.j        , 0.        +0.j        ,\n",
       "       0.        +0.j        , 0.        +0.j        ,\n",
       "       0.        +0.j        , 0.        +0.j        ,\n",
       "       0.        +0.j        , 0.        +0.j        ,\n",
       "       0.        +0.j        , 0.        +0.j        ,\n",
       "       0.        +0.j        , 0.        +0.j        ,\n",
       "       0.        +0.j        ])"
      ]
     },
     "execution_count": 3,
     "metadata": {},
     "output_type": "execute_result"
    }
   ],
   "source": [
    "# create another fermionic state and add them up\n",
    "phi = FermiState(orbs, N)\n",
    "phi.data[0] = 1. /np.sqrt(2)\n",
    "phi.data[2] = 1. /np.sqrt(2)\n",
    "chi = psi + phi\n",
    "chi"
   ]
  },
  {
   "cell_type": "code",
   "execution_count": 4,
   "metadata": {},
   "outputs": [
    {
     "data": {
      "text/plain": [
       "array([[0.5+0.j , 0. -0.5j],\n",
       "       [0. +0.5j, 0.5+0.j ]])"
      ]
     },
     "execution_count": 4,
     "metadata": {},
     "output_type": "execute_result"
    }
   ],
   "source": [
    "# compute density matrix of psi\n",
    "rho = psi * psi.T\n",
    "rho.data[:2,:2]"
   ]
  },
  {
   "cell_type": "code",
   "execution_count": 5,
   "metadata": {},
   "outputs": [
    {
     "data": {
      "text/plain": [
       "array([[1. +0.j , 0. +0.j , 0. +0.j , 0. +0.j ],\n",
       "       [0. +0.j , 1. +0.j , 0. +0.j , 0. +0.j ],\n",
       "       [0. +0.j , 0. +0.j , 1. +0.j , 0. +0.j ],\n",
       "       [0. +0.j , 0. +0.j , 0. +0.j , 0.5+0.j ],\n",
       "       [0. +0.j , 0. +0.j , 0. +0.j , 0. +0.j ],\n",
       "       [0. +0.j , 0. +0.j , 0. +0.j , 0. +0.j ],\n",
       "       [0. +0.j , 0. +0.j , 0. +0.j , 0. +0.5j]])"
      ]
     },
     "execution_count": 5,
     "metadata": {},
     "output_type": "execute_result"
    }
   ],
   "source": [
    "# compute two-body reduced density matrix\n",
    "G = rdm(psi, 2) # now this returns a FermiOp object\n",
    "G.data[:7,:4] # same results as in the FermiFab User's Guide"
   ]
  },
  {
   "cell_type": "code",
   "execution_count": 6,
   "metadata": {},
   "outputs": [
    {
     "data": {
      "text/plain": [
       "(0.9999999999999997+0j)"
      ]
     },
     "execution_count": 6,
     "metadata": {},
     "output_type": "execute_result"
    }
   ],
   "source": [
    "# Expected value of G under psi:\n",
    "psi.T * G * psi"
   ]
  },
  {
   "cell_type": "code",
   "execution_count": null,
   "metadata": {},
   "outputs": [],
   "source": []
  }
 ],
 "metadata": {
  "kernelspec": {
   "display_name": "Python 3",
   "language": "python",
   "name": "python3"
  },
  "language_info": {
   "codemirror_mode": {
    "name": "ipython",
    "version": 3
   },
   "file_extension": ".py",
   "mimetype": "text/x-python",
   "name": "python",
   "nbconvert_exporter": "python",
   "pygments_lexer": "ipython3",
   "version": "3.7.4"
  }
 },
 "nbformat": 4,
 "nbformat_minor": 2
}
