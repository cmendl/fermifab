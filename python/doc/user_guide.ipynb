{
 "cells": [
  {
   "cell_type": "code",
   "execution_count": 1,
   "metadata": {},
   "outputs": [],
   "source": [
    "import numpy as np\n",
    "import fermifab\n",
    "from scipy.special import binom"
   ]
  },
  {
   "cell_type": "markdown",
   "metadata": {},
   "source": [
    "# What is FermiFab?\n",
    "\n",
    "FermiFab stands for \"fermion laboratory\" and is a quantum physics toolbox for small numbers of fermions. It is mainly concerned with the representation of (symbolic) fermionic wavefunctions and the calculation of their reduced density matrices (RDMs). The toolbox transparently handles the inherent antisymmetrization of wavefunctions and incorporates the creation and annihilation formalism.\n",
    "\n",
    "FermiFab is available at https://github.com/cmendl/fermifab.\n",
    "\n",
    "\n",
    "# Fermi states\n",
    "\n",
    "A fundamental building block of multi-fermion quantum mechanics are Slater determinants, which you can think of as a collection of \"orbitals\" (or slots), some of which are occupied by a fermionic particle (e.g., an electron):\n",
    "\n",
    "![slater](html/slater.png)\n",
    "\n",
    "In this illustration, each circle represents an orbital, and the filled circles denote occupied orbitals. In mathematical terms, the available number of orbitals 'orbs' is the dimension of the underlying single-particle Hilbert space $\\mathcal{H}$ and the number of occupied orbitals is the particle number $N$. Thus there are altogether\n",
    "\n",
    "$\\binom{\\rm orbs}{N}$\n",
    "\n",
    "Slater determinants. Each quantum mechanical Fermi state is a linear combination of these Slater determinants with complex coefficients. Formally, the quantum Fermi state is an element of the $N$-particle *Fock space* $\\wedge^N \\mathcal{H}$.\n",
    "\n",
    "In FermiFab, you can define, say, a $N=4$ particle state (or wavefunction) $\\psi$ and 6 available orbitals with the `FermiState` command:"
   ]
  },
  {
   "cell_type": "code",
   "execution_count": 2,
   "metadata": {},
   "outputs": [
    {
     "data": {
      "text/plain": [
       "Fermi State (orbs == 6, N == 4)\n",
       "\n",
       "Vector representation w.r.t. ordered Slater basis:\n",
       "\n",
       "array([0.70710678+0.j        , 0.        +0.70710678j,\n",
       "       0.        +0.j        , 0.        +0.j        ,\n",
       "       0.        +0.j        , 0.        +0.j        ,\n",
       "       0.        +0.j        , 0.        +0.j        ,\n",
       "       0.        +0.j        , 0.        +0.j        ,\n",
       "       0.        +0.j        , 0.        +0.j        ,\n",
       "       0.        +0.j        , 0.        +0.j        ,\n",
       "       0.        +0.j        ])"
      ]
     },
     "execution_count": 2,
     "metadata": {},
     "output_type": "execute_result"
    }
   ],
   "source": [
    "orbs = 6\n",
    "N = 4\n",
    "x = np.zeros(int(binom(orbs, N)), dtype = complex)\n",
    "x[0] = 1/np.sqrt(2)\n",
    "x[1] = 1j/np.sqrt(2)\n",
    "psi = fermifab.FermiState(orbs, N, x)\n",
    "psi"
   ]
  },
  {
   "cell_type": "markdown",
   "metadata": {},
   "source": [
    "The vector $x$ contains the Slater determinant coefficients of $\\psi$ in lexicographical order.\n",
    "\n",
    "The rank-one projector in bra-ket notation\n",
    "\n",
    "$|\\psi\\rangle\\langle\\psi|$\n",
    "\n",
    "or \"density matrix\" of $\\psi$ can be calculated intuitively by"
   ]
  },
  {
   "cell_type": "code",
   "execution_count": 3,
   "metadata": {},
   "outputs": [
    {
     "data": {
      "text/plain": [
       "Fermi Operator wedge^4 H -> wedge^4 H (orbs == 6)\n",
       "\n",
       "Matrix representation w.r.t. ordered Slater basis:\n",
       "\n",
       "array([[0.5+0.j , 0. -0.5j, 0. +0.j , 0. +0.j , 0. +0.j , 0. +0.j ,\n",
       "        0. +0.j , 0. +0.j , 0. +0.j , 0. +0.j , 0. +0.j , 0. +0.j ,\n",
       "        0. +0.j , 0. +0.j , 0. +0.j ],\n",
       "       [0. +0.5j, 0.5+0.j , 0. +0.j , 0. +0.j , 0. +0.j , 0. +0.j ,\n",
       "        0. +0.j , 0. +0.j , 0. +0.j , 0. +0.j , 0. +0.j , 0. +0.j ,\n",
       "        0. +0.j , 0. +0.j , 0. +0.j ],\n",
       "       [0. +0.j , 0. +0.j , 0. +0.j , 0. +0.j , 0. +0.j , 0. +0.j ,\n",
       "        0. +0.j , 0. +0.j , 0. +0.j , 0. +0.j , 0. +0.j , 0. +0.j ,\n",
       "        0. +0.j , 0. +0.j , 0. +0.j ],\n",
       "       [0. +0.j , 0. +0.j , 0. +0.j , 0. +0.j , 0. +0.j , 0. +0.j ,\n",
       "        0. +0.j , 0. +0.j , 0. +0.j , 0. +0.j , 0. +0.j , 0. +0.j ,\n",
       "        0. +0.j , 0. +0.j , 0. +0.j ],\n",
       "       [0. +0.j , 0. +0.j , 0. +0.j , 0. +0.j , 0. +0.j , 0. +0.j ,\n",
       "        0. +0.j , 0. +0.j , 0. +0.j , 0. +0.j , 0. +0.j , 0. +0.j ,\n",
       "        0. +0.j , 0. +0.j , 0. +0.j ],\n",
       "       [0. +0.j , 0. +0.j , 0. +0.j , 0. +0.j , 0. +0.j , 0. +0.j ,\n",
       "        0. +0.j , 0. +0.j , 0. +0.j , 0. +0.j , 0. +0.j , 0. +0.j ,\n",
       "        0. +0.j , 0. +0.j , 0. +0.j ],\n",
       "       [0. +0.j , 0. +0.j , 0. +0.j , 0. +0.j , 0. +0.j , 0. +0.j ,\n",
       "        0. +0.j , 0. +0.j , 0. +0.j , 0. +0.j , 0. +0.j , 0. +0.j ,\n",
       "        0. +0.j , 0. +0.j , 0. +0.j ],\n",
       "       [0. +0.j , 0. +0.j , 0. +0.j , 0. +0.j , 0. +0.j , 0. +0.j ,\n",
       "        0. +0.j , 0. +0.j , 0. +0.j , 0. +0.j , 0. +0.j , 0. +0.j ,\n",
       "        0. +0.j , 0. +0.j , 0. +0.j ],\n",
       "       [0. +0.j , 0. +0.j , 0. +0.j , 0. +0.j , 0. +0.j , 0. +0.j ,\n",
       "        0. +0.j , 0. +0.j , 0. +0.j , 0. +0.j , 0. +0.j , 0. +0.j ,\n",
       "        0. +0.j , 0. +0.j , 0. +0.j ],\n",
       "       [0. +0.j , 0. +0.j , 0. +0.j , 0. +0.j , 0. +0.j , 0. +0.j ,\n",
       "        0. +0.j , 0. +0.j , 0. +0.j , 0. +0.j , 0. +0.j , 0. +0.j ,\n",
       "        0. +0.j , 0. +0.j , 0. +0.j ],\n",
       "       [0. +0.j , 0. +0.j , 0. +0.j , 0. +0.j , 0. +0.j , 0. +0.j ,\n",
       "        0. +0.j , 0. +0.j , 0. +0.j , 0. +0.j , 0. +0.j , 0. +0.j ,\n",
       "        0. +0.j , 0. +0.j , 0. +0.j ],\n",
       "       [0. +0.j , 0. +0.j , 0. +0.j , 0. +0.j , 0. +0.j , 0. +0.j ,\n",
       "        0. +0.j , 0. +0.j , 0. +0.j , 0. +0.j , 0. +0.j , 0. +0.j ,\n",
       "        0. +0.j , 0. +0.j , 0. +0.j ],\n",
       "       [0. +0.j , 0. +0.j , 0. +0.j , 0. +0.j , 0. +0.j , 0. +0.j ,\n",
       "        0. +0.j , 0. +0.j , 0. +0.j , 0. +0.j , 0. +0.j , 0. +0.j ,\n",
       "        0. +0.j , 0. +0.j , 0. +0.j ],\n",
       "       [0. +0.j , 0. +0.j , 0. +0.j , 0. +0.j , 0. +0.j , 0. +0.j ,\n",
       "        0. +0.j , 0. +0.j , 0. +0.j , 0. +0.j , 0. +0.j , 0. +0.j ,\n",
       "        0. +0.j , 0. +0.j , 0. +0.j ],\n",
       "       [0. +0.j , 0. +0.j , 0. +0.j , 0. +0.j , 0. +0.j , 0. +0.j ,\n",
       "        0. +0.j , 0. +0.j , 0. +0.j , 0. +0.j , 0. +0.j , 0. +0.j ,\n",
       "        0. +0.j , 0. +0.j , 0. +0.j ]])"
      ]
     },
     "execution_count": 3,
     "metadata": {},
     "output_type": "execute_result"
    }
   ],
   "source": [
    "psi @ psi.H"
   ]
  },
  {
   "cell_type": "markdown",
   "metadata": {},
   "source": [
    "Note that the result is now an operator acting on the 4-particle antisymmetrized Hilbert space $\\wedge^4 \\mathcal{H}$ !\n",
    "\n",
    "# Reduced density matrices (RDMs)\n",
    "\n",
    "The core feature of the toolbox is the efficient calculation of reduced density matrices. For example, the two-body reduced density matrix $\\Gamma_\\psi$ defined by\n",
    "\n",
    "$$\\langle ij\\vert \\Gamma_{\\psi} \\vert kl\\rangle = \\langle\\psi\\vert a^{\\dagger}_k a^{\\dagger}_l a_j a_i \\vert\\psi\\rangle$$\n",
    "\n",
    "can be calculated by the `rdm` command as\n"
   ]
  },
  {
   "cell_type": "code",
   "execution_count": 4,
   "metadata": {},
   "outputs": [
    {
     "data": {
      "text/plain": [
       "Fermi Operator wedge^2 H -> wedge^2 H (orbs == 6)\n",
       "\n",
       "Matrix representation w.r.t. ordered Slater basis:\n",
       "\n",
       "array([[1. +0.j , 0. +0.j , 0. +0.j , 0. +0.j , 0. +0.j , 0. +0.j ,\n",
       "        0. +0.j , 0. +0.j , 0. +0.j , 0. +0.j , 0. +0.j , 0. +0.j ,\n",
       "        0. +0.j , 0. +0.j , 0. +0.j ],\n",
       "       [0. +0.j , 1. +0.j , 0. +0.j , 0. +0.j , 0. +0.j , 0. +0.j ,\n",
       "        0. +0.j , 0. +0.j , 0. +0.j , 0. +0.j , 0. +0.j , 0. +0.j ,\n",
       "        0. +0.j , 0. +0.j , 0. +0.j ],\n",
       "       [0. +0.j , 0. +0.j , 1. +0.j , 0. +0.j , 0. +0.j , 0. +0.j ,\n",
       "        0. +0.j , 0. +0.j , 0. +0.j , 0. +0.j , 0. +0.j , 0. +0.j ,\n",
       "        0. +0.j , 0. +0.j , 0. +0.j ],\n",
       "       [0. +0.j , 0. +0.j , 0. +0.j , 0.5+0.j , 0. +0.j , 0. +0.j ,\n",
       "        0. -0.5j, 0. +0.j , 0. +0.j , 0. +0.j , 0. +0.j , 0. +0.j ,\n",
       "        0. +0.j , 0. +0.j , 0. +0.j ],\n",
       "       [0. +0.j , 0. +0.j , 0. +0.j , 0. +0.j , 0.5+0.j , 0. +0.j ,\n",
       "        0. +0.j , 0. -0.5j, 0. +0.j , 0. +0.j , 0. +0.j , 0. +0.j ,\n",
       "        0. +0.j , 0. +0.j , 0. +0.j ],\n",
       "       [0. +0.j , 0. +0.j , 0. +0.j , 0. +0.j , 0. +0.j , 0.5+0.j ,\n",
       "        0. +0.j , 0. +0.j , 0. -0.5j, 0. +0.j , 0. +0.j , 0. +0.j ,\n",
       "        0. +0.j , 0. +0.j , 0. +0.j ],\n",
       "       [0. +0.j , 0. +0.j , 0. +0.j , 0. +0.5j, 0. +0.j , 0. +0.j ,\n",
       "        0.5+0.j , 0. +0.j , 0. +0.j , 0. +0.j , 0. +0.j , 0. +0.j ,\n",
       "        0. +0.j , 0. +0.j , 0. +0.j ],\n",
       "       [0. +0.j , 0. +0.j , 0. +0.j , 0. +0.j , 0. +0.5j, 0. +0.j ,\n",
       "        0. +0.j , 0.5+0.j , 0. +0.j , 0. +0.j , 0. +0.j , 0. +0.j ,\n",
       "        0. +0.j , 0. +0.j , 0. +0.j ],\n",
       "       [0. +0.j , 0. +0.j , 0. +0.j , 0. +0.j , 0. +0.j , 0. +0.5j,\n",
       "        0. +0.j , 0. +0.j , 0.5+0.j , 0. +0.j , 0. +0.j , 0. +0.j ,\n",
       "        0. +0.j , 0. +0.j , 0. +0.j ],\n",
       "       [0. +0.j , 0. +0.j , 0. +0.j , 0. +0.j , 0. +0.j , 0. +0.j ,\n",
       "        0. +0.j , 0. +0.j , 0. +0.j , 0. +0.j , 0. +0.j , 0. +0.j ,\n",
       "        0. +0.j , 0. +0.j , 0. +0.j ],\n",
       "       [0. +0.j , 0. +0.j , 0. +0.j , 0. +0.j , 0. +0.j , 0. +0.j ,\n",
       "        0. +0.j , 0. +0.j , 0. +0.j , 0. +0.j , 0. +0.j , 0. +0.j ,\n",
       "        0. +0.j , 0. +0.j , 0. +0.j ],\n",
       "       [0. +0.j , 0. +0.j , 0. +0.j , 0. +0.j , 0. +0.j , 0. +0.j ,\n",
       "        0. +0.j , 0. +0.j , 0. +0.j , 0. +0.j , 0. +0.j , 0. +0.j ,\n",
       "        0. +0.j , 0. +0.j , 0. +0.j ],\n",
       "       [0. +0.j , 0. +0.j , 0. +0.j , 0. +0.j , 0. +0.j , 0. +0.j ,\n",
       "        0. +0.j , 0. +0.j , 0. +0.j , 0. +0.j , 0. +0.j , 0. +0.j ,\n",
       "        0. +0.j , 0. +0.j , 0. +0.j ],\n",
       "       [0. +0.j , 0. +0.j , 0. +0.j , 0. +0.j , 0. +0.j , 0. +0.j ,\n",
       "        0. +0.j , 0. +0.j , 0. +0.j , 0. +0.j , 0. +0.j , 0. +0.j ,\n",
       "        0. +0.j , 0. +0.j , 0. +0.j ],\n",
       "       [0. +0.j , 0. +0.j , 0. +0.j , 0. +0.j , 0. +0.j , 0. +0.j ,\n",
       "        0. +0.j , 0. +0.j , 0. +0.j , 0. +0.j , 0. +0.j , 0. +0.j ,\n",
       "        0. +0.j , 0. +0.j , 0. +0.j ]])"
      ]
     },
     "execution_count": 4,
     "metadata": {},
     "output_type": "execute_result"
    }
   ],
   "source": [
    "fermifab.rdm(psi,2)"
   ]
  },
  {
   "cell_type": "markdown",
   "metadata": {},
   "source": [
    "In the above formula, $a^{\\dagger}_i$ and $a_i$ denote creation and annihilation operators, respectively."
   ]
  },
  {
   "cell_type": "markdown",
   "metadata": {},
   "source": [
    "More generally, for wavefunctions $\\psi_k \\in \\wedge^{N_k}\\mathcal{H}$ and orthonormal basis sets $(\\varphi_{ki})_i$ of $\\wedge^{p_k}\\mathcal{H}$ with $1 \\le p_k \\le N_k$ and $k = 1,2$, define the reduced density matrix\n",
    "\n",
    "$$\\gamma_{\\vert\\psi_1\\rangle\\langle\\psi_2\\vert}: \\wedge^{p_2}\\mathcal{H} \\to \\wedge^{p_1}\\mathcal{H}$$\n",
    "\n",
    "by\n",
    "\n",
    "$$\\langle\\varphi_{1j}\\vert \\gamma_{\\vert\\psi_1\\rangle\\langle\\psi_2\\vert} \\vert\\varphi_{2i}\\rangle := \\langle\\psi_2\\vert a^{\\dagger}_{\\varphi_{2i}} a_{\\varphi_{1j}} \\vert\\psi_1\\rangle = \\langle a_{\\varphi_{2i}} \\psi_2 \\vert a_{\\varphi_{1j}} \\psi_1\\rangle.$$\n",
    "\n",
    "The significance of this definition can be seen as follows. Any linear map $b: \\wedge^{p_1}\\mathcal{H} \\to \\wedge^{p_2}\\mathcal{H}$ with matrix representation $\\left(b_{ij}\\right)$ may be \"lifted\" to an operator $B: \\wedge^{N_1}\\mathcal{H} \\to \\wedge^{N_2}\\mathcal{H}$ by\n",
    "\n",
    "$$B = \\sum_{i,j} b_{ij}\\,a^\\dagger_{\\varphi_{2i}} a_{\\varphi_{1j}},$$\n",
    "\n",
    "implemented as `p2N` in FermiFab.\n",
    "\n",
    "A prominent example is the Coulomb operator with $p_1 = p_2 = 2$, which describes the _pairwise_ interaction between charged particles. Now, the $B$ expectation value with respect to $\\vert\\psi_1\\rangle\\langle\\psi_2\\vert$ equals\n",
    "\n",
    "$$\\langle\\psi_2\\vert B \\vert\\psi_1\\rangle \\equiv \\sum_{i,j} b_{ij} \\langle\\psi_2\\vert a^{\\dagger}_{\\varphi_{2i}} a_{\\varphi_{1j}} \\vert\\psi_1\\rangle = \\mathrm{tr}\\big[ b\\,\\gamma_{\\vert\\psi_1\\rangle\\langle\\psi_2\\vert}\\big].$$\n",
    "\n",
    "In other words, this equation switches from $\\wedge^{N_k}\\mathcal{H}$ to $\\wedge^{p_k}\\mathcal{H}$ for $k = 1,2$. For many applications, this is the only possibility to avoid the \"curse of dimensionality\" induced by the large $N_1$, $N_2$-particle systems.\n"
   ]
  },
  {
   "cell_type": "markdown",
   "metadata": {},
   "source": [
    "# Tensor products of operators\n",
    "\n",
    "For any linear operator (i.e., matrix) $A: \\mathcal{H} \\to \\mathcal{H}$, it holds that\n",
    "\n",
    "$$\\langle j_1,\\dots,j_N \\vert (A \\otimes\\cdots\\otimes A) \\vert i_1,\\dots,i_N \\rangle = \\det \\langle j_k \\vert A \\vert i_\\ell\\rangle_{k,\\ell}.$$\n",
    "\n",
    "That is, we obtain a matrix representation of $A \\otimes\\cdots\\otimes A$ acting on $\\wedge^N \\mathcal{H}$. The `tensor_op` command implements precisely this operation.\n",
    "\n",
    "The following code lines are taken from the \"natural orbitals\" example in `test/test_norbs.py`:"
   ]
  },
  {
   "cell_type": "code",
   "execution_count": 5,
   "metadata": {},
   "outputs": [],
   "source": [
    "orbs = 6\n",
    "N = 4\n",
    "psi = fermifab.FermiState(orbs, N, fermifab.crand(int(binom(orbs, N))))\n",
    "_, U = fermifab.eig(fermifab.rdm(psi,1))"
   ]
  },
  {
   "cell_type": "markdown",
   "metadata": {},
   "source": [
    "`fermifab.crand` generates pseudorandom complex numbers (similar to `np.random.rand`), and `fermifab.eig` computes eigenvalues and -states (calling `np.linalg.eig`). Thus, the eigenvectors of the one-body reduced density matrix of $\\psi$ are stored in $U$.\n",
    "\n",
    "Performing a corresponding base change on $\\wedge^N \\mathcal{H}$ using these eigenvectors should result in a diagonal one-body RDM [Löwdin 1955]:"
   ]
  },
  {
   "cell_type": "code",
   "execution_count": 6,
   "metadata": {},
   "outputs": [
    {
     "name": "stdout",
     "output_type": "stream",
     "text": [
      "3.267768425211655e-15\n"
     ]
    }
   ],
   "source": [
    "psi = fermifab.tensor_op(U,N).H @ psi\n",
    "G = fermifab.rdm(psi, 1).data\n",
    "err = np.linalg.norm(G.data-np.diag(np.diag(G)))\n",
    "print(err)"
   ]
  },
  {
   "cell_type": "markdown",
   "metadata": {},
   "source": [
    "In many physical applications, one can take advantage of unitary base changes on $\\mathcal{H}$ such that subsequent computations are simplified. The above code shows how to implement the according base change on $\\wedge^N \\mathcal{H}$.\n"
   ]
  },
  {
   "cell_type": "markdown",
   "metadata": {},
   "source": [
    "# State configurations"
   ]
  },
  {
   "cell_type": "markdown",
   "metadata": {},
   "source": [
    "# References\n",
    "\n",
    "\n",
    "* [Mendl 2011] C. B. Mendl.\n",
    "  _The FermiFab toolbox for fermionic many-particle quantum systems_.\n",
    "  Comput. Phys. Commun. 182, 1327-1337 (2011)\n",
    "  [DOI](http://dx.doi.org/10.1016/j.cpc.2011.01.028),\n",
    "  preprint http://arxiv.org/abs/1103.0872\n",
    "* [Mazziotti 2007] D. A. Mazziotti.\n",
    "  _Reduced-density-matrix mechanics: with application to many-electron atoms and molecules_.\n",
    "  Advances in Chemical Physics 134, Wiley (2007)\n",
    "* [Coleman & Yukalov 2000] A. J. Coleman and V. I. Yukalov.\n",
    "  _Reduced density matrices: Coulson's challenge_.\n",
    "  Lecture Notes in Chemistry 72, Springer (2000)\n",
    "* [Ando 1963] T. Ando.\n",
    "  _Properties of Fermion density matrices_.\n",
    "  Rev. Mod. Phys. 35, 690-702 (1963)\n",
    "  [DOI](http://dx.doi.org/10.1103/RevModPhys.35.690)\n",
    "* [Löwdin 1955] P.-O. Löwdin.\n",
    "  _Quantum theory of many-particle systems I_.\n",
    "  Phys. Rev. 97, 1474-1489 (1955)\n",
    "  [DOI](http://dx.doi.org/10.1103/PhysRev.97.1474)"
   ]
  },
  {
   "cell_type": "code",
   "execution_count": null,
   "metadata": {},
   "outputs": [],
   "source": []
  }
 ],
 "metadata": {
  "kernelspec": {
   "display_name": "Python 3",
   "language": "python",
   "name": "python3"
  },
  "language_info": {
   "codemirror_mode": {
    "name": "ipython",
    "version": 3
   },
   "file_extension": ".py",
   "mimetype": "text/x-python",
   "name": "python",
   "nbconvert_exporter": "python",
   "pygments_lexer": "ipython3",
   "version": "3.7.4"
  }
 },
 "nbformat": 4,
 "nbformat_minor": 2
}
